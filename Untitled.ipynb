{
 "cells": [
  {
   "cell_type": "code",
   "execution_count": 1,
   "metadata": {},
   "outputs": [],
   "source": [
    "import pandas as pd\n",
    "\n",
    "import numpy as np\n",
    "\n",
    "import matplotlib.pyplot as plt\n",
    "\n",
    "from os import listdir\n",
    "\n",
    "import geopandas as gpd\n",
    "\n",
    "%matplotlib inline"
   ]
  },
  {
   "cell_type": "code",
   "execution_count": 2,
   "metadata": {},
   "outputs": [
    {
     "data": {
      "text/plain": [
       "['.git',\n",
       " '.gitignore',\n",
       " '.ipynb_checkpoints',\n",
       " '.vscode',\n",
       " 'country_data',\n",
       " 'country_plots.py',\n",
       " 'Dashboard.py',\n",
       " 'new_ds.cpg',\n",
       " 'new_ds.csv',\n",
       " 'new_ds.dbf',\n",
       " 'new_ds.prj',\n",
       " 'new_ds.shp',\n",
       " 'new_ds.shx',\n",
       " 'paste.html',\n",
       " 'pholder.txt',\n",
       " 'Procfile',\n",
       " 'README.md',\n",
       " 'requirements.txt',\n",
       " 'runtime.txt',\n",
       " 'simple-pre-loader.zip',\n",
       " 'static',\n",
       " 'templates',\n",
       " 'Untitled.ipynb',\n",
       " '__pycache__']"
      ]
     },
     "execution_count": 2,
     "metadata": {},
     "output_type": "execute_result"
    }
   ],
   "source": [
    "listdir()"
   ]
  },
  {
   "cell_type": "code",
   "execution_count": 4,
   "metadata": {},
   "outputs": [],
   "source": [
    "df = gpd.read_file('new_ds.dbf')"
   ]
  },
  {
   "cell_type": "code",
   "execution_count": 5,
   "metadata": {},
   "outputs": [
    {
     "data": {
      "text/html": [
       "<div>\n",
       "<style scoped>\n",
       "    .dataframe tbody tr th:only-of-type {\n",
       "        vertical-align: middle;\n",
       "    }\n",
       "\n",
       "    .dataframe tbody tr th {\n",
       "        vertical-align: top;\n",
       "    }\n",
       "\n",
       "    .dataframe thead th {\n",
       "        text-align: right;\n",
       "    }\n",
       "</style>\n",
       "<table border=\"1\" class=\"dataframe\">\n",
       "  <thead>\n",
       "    <tr style=\"text-align: right;\">\n",
       "      <th></th>\n",
       "      <th>NAME</th>\n",
       "      <th>TYPE</th>\n",
       "      <th>Company</th>\n",
       "      <th>Continent</th>\n",
       "      <th>Model (0=t</th>\n",
       "      <th>Privately</th>\n",
       "      <th>geometry</th>\n",
       "    </tr>\n",
       "  </thead>\n",
       "  <tbody>\n",
       "    <tr>\n",
       "      <th>0</th>\n",
       "      <td>Zimbabwe</td>\n",
       "      <td>Sovereign country</td>\n",
       "      <td>SUPERSPORT (SOUTH AFRICA)</td>\n",
       "      <td>Africa</td>\n",
       "      <td>3.0</td>\n",
       "      <td>1.0</td>\n",
       "      <td>POLYGON ((31.28789062500002 -22.40205078125001...</td>\n",
       "    </tr>\n",
       "    <tr>\n",
       "      <th>1</th>\n",
       "      <td>Zambia</td>\n",
       "      <td>Sovereign country</td>\n",
       "      <td>SUPERSPORT (SOUTH AFRICA)</td>\n",
       "      <td>Africa</td>\n",
       "      <td>3.0</td>\n",
       "      <td>1.0</td>\n",
       "      <td>POLYGON ((30.39609375000001 -15.64306640625, 3...</td>\n",
       "    </tr>\n",
       "    <tr>\n",
       "      <th>2</th>\n",
       "      <td>Yemen</td>\n",
       "      <td>Sovereign country</td>\n",
       "      <td>beIN SPORT</td>\n",
       "      <td>Asia</td>\n",
       "      <td>3.0</td>\n",
       "      <td>1.0</td>\n",
       "      <td>(POLYGON ((53.08564453125001 16.648388671875, ...</td>\n",
       "    </tr>\n",
       "    <tr>\n",
       "      <th>3</th>\n",
       "      <td>Venezuela</td>\n",
       "      <td>Sovereign country</td>\n",
       "      <td>ESPN LATIN AMERICA</td>\n",
       "      <td>Americas</td>\n",
       "      <td>3.0</td>\n",
       "      <td>1.0</td>\n",
       "      <td>(POLYGON ((-60.82119140624999 9.13837890624999...</td>\n",
       "    </tr>\n",
       "    <tr>\n",
       "      <th>4</th>\n",
       "      <td>Vanuatu</td>\n",
       "      <td>Sovereign country</td>\n",
       "      <td>FIJI TV</td>\n",
       "      <td>Asia</td>\n",
       "      <td>4.0</td>\n",
       "      <td>1.0</td>\n",
       "      <td>(POLYGON ((166.74580078125 -14.82685546875001,...</td>\n",
       "    </tr>\n",
       "  </tbody>\n",
       "</table>\n",
       "</div>"
      ],
      "text/plain": [
       "        NAME               TYPE                    Company Continent  \\\n",
       "0   Zimbabwe  Sovereign country  SUPERSPORT (SOUTH AFRICA)    Africa   \n",
       "1     Zambia  Sovereign country  SUPERSPORT (SOUTH AFRICA)    Africa   \n",
       "2      Yemen  Sovereign country                 beIN SPORT      Asia   \n",
       "3  Venezuela  Sovereign country         ESPN LATIN AMERICA  Americas   \n",
       "4    Vanuatu  Sovereign country                    FIJI TV      Asia   \n",
       "\n",
       "   Model (0=t  Privately                                           geometry  \n",
       "0         3.0        1.0  POLYGON ((31.28789062500002 -22.40205078125001...  \n",
       "1         3.0        1.0  POLYGON ((30.39609375000001 -15.64306640625, 3...  \n",
       "2         3.0        1.0  (POLYGON ((53.08564453125001 16.648388671875, ...  \n",
       "3         3.0        1.0  (POLYGON ((-60.82119140624999 9.13837890624999...  \n",
       "4         4.0        1.0  (POLYGON ((166.74580078125 -14.82685546875001,...  "
      ]
     },
     "execution_count": 5,
     "metadata": {},
     "output_type": "execute_result"
    }
   ],
   "source": [
    "df.head()"
   ]
  },
  {
   "cell_type": "code",
   "execution_count": 6,
   "metadata": {},
   "outputs": [],
   "source": [
    "countries = df['NAME'].unique()"
   ]
  },
  {
   "cell_type": "code",
   "execution_count": 7,
   "metadata": {},
   "outputs": [
    {
     "data": {
      "text/plain": [
       "array(['Zimbabwe', 'Zambia', 'Yemen', 'Venezuela', 'Vanuatu', 'Uruguay',\n",
       "       'United States of America', 'United Kingdom',\n",
       "       'United Arab Emirates', 'Uganda', 'Tunisia', 'Trinidad and Tobago',\n",
       "       'Tonga', 'Togo', 'Thailand', 'Syria', 'Switzerland', 'Sweden',\n",
       "       'eSwatini', 'Suriname', 'Sudan', 'South Africa', 'Somalia',\n",
       "       'Slovakia', 'Singapore', 'Sierra Leone', 'Seychelles', 'Senegal',\n",
       "       'Saudi Arabia', 'SÃ£o TomÃ© and Principe', 'Samoa', 'Saint Lucia',\n",
       "       'Rwanda', 'Russia', 'Qatar', 'Portugal', 'Poland', 'Philippines',\n",
       "       'Peru', 'Paraguay', 'Panama', 'Oman', 'Norway', 'Nigeria', 'Niger',\n",
       "       'Nicaragua', 'New Zealand', 'Netherlands', 'Nauru', 'Namibia',\n",
       "       'Mozambique', 'Morocco', 'Monaco', 'Mexico', 'Mauritania', 'Mali',\n",
       "       'Malaysia', 'Malawi', 'Madagascar', 'Luxembourg', 'Libya',\n",
       "       'Liberia', 'Lesotho', 'Lebanon', 'Laos', 'Kuwait', 'Kosovo',\n",
       "       'Kiribati', 'Kenya', 'Jordan', 'Japan', 'Jamaica', 'Italy',\n",
       "       'Ireland', 'Iraq', 'Iran', 'Indonesia', 'Honduras', 'Haiti',\n",
       "       'Guyana', 'Guinea-Bissau', 'Guinea', 'Guatemala', 'Grenada',\n",
       "       'Ghana', 'Georgia', 'Gambia', 'Gabon', 'France', 'Finland', 'Fiji',\n",
       "       'Ethiopia', 'Eritrea', 'El Salvador', 'Egypt', 'Ecuador',\n",
       "       'Dominica', 'Djibouti', 'Denmark', 'Czechia', 'Costa Rica',\n",
       "       'Comoros', 'Colombia', 'Chile', 'Chad', 'Cameroon', 'Cambodia',\n",
       "       'Burundi', 'Burkina Faso', 'Brunei', 'Brazil', 'Botswana',\n",
       "       'Bolivia', 'Benin', 'Belize', 'Belgium', 'Barbados', 'Bahrain',\n",
       "       'Australia', 'Argentina', 'Angola', 'Andorra', 'Algeria',\n",
       "       'Albania', 'Vietnam', 'Vatican', 'Uzbekistan', 'Micronesia',\n",
       "       'Marshall Is.', 'N. Mariana Is.', 'U.S. Virgin Is.', 'Guam',\n",
       "       'American Samoa', 'Puerto Rico', 'S. Geo. and the Is.',\n",
       "       'Br. Indian Ocean Ter.', 'Saint Helena', 'Pitcairn Is.',\n",
       "       'Anguilla', 'Falkland Is.', 'Cayman Is.', 'Bermuda',\n",
       "       'British Virgin Is.', 'Turks and Caicos Is.', 'Montserrat',\n",
       "       'Jersey', 'Guernsey', 'Isle of Man', 'Ukraine', 'Turkmenistan',\n",
       "       'Turkey', 'Timor-Leste', 'Tanzania', 'Tajikistan', 'Taiwan',\n",
       "       'S. Sudan', 'Sri Lanka', 'Spain', 'South Korea', 'Somaliland',\n",
       "       'Solomon Is.', 'Slovenia', 'Serbia', 'San Marino',\n",
       "       'St. Vin. and Gren.', 'St. Kitts and Nevis', 'Romania',\n",
       "       'Papua New Guinea', 'Palau', 'Pakistan', 'North Korea', 'Niue',\n",
       "       'Cook Is.', 'Aruba', 'CuraÃ§ao', 'Nepal', 'W. Sahara',\n",
       "       'Montenegro', 'Mongolia', 'Moldova', 'Mauritius', 'Malta',\n",
       "       'Maldives', 'Macedonia', 'Lithuania', 'Liechtenstein', 'Latvia',\n",
       "       'Kyrgyzstan', 'Kazakhstan', 'Israel', 'Palestine', 'India',\n",
       "       'Iceland', 'Hungary', 'Greece', 'Germany',\n",
       "       'St. Pierre and Miquelon', 'Wallis and Futuna Is.', 'St-Martin',\n",
       "       'St-BarthÃ©lemy', 'Fr. Polynesia', 'New Caledonia',\n",
       "       'Fr. S. Antarctic Lands', 'Ã\\x85land', 'Estonia', 'Eq. Guinea',\n",
       "       'Dominican Rep.', 'Greenland', 'Faeroe Is.', 'N. Cyprus', 'Cyprus',\n",
       "       'Cuba', 'Croatia', \"CÃ´te d'Ivoire\", 'Dem. Rep. Congo', 'Congo',\n",
       "       'China', 'Macao', 'Hong Kong', 'Central African Rep.',\n",
       "       'Cabo Verde', 'Canada', 'Myanmar', 'Bulgaria', 'Bosnia and Herz.',\n",
       "       'Bhutan', 'Belarus', 'Bangladesh', 'Bahamas', 'Azerbaijan',\n",
       "       'Austria', 'Indian Ocean Ter.', 'Heard I. and McDonald Is.',\n",
       "       'Norfolk Island', 'Ashmore and Cartier Is.', 'Armenia',\n",
       "       'Antigua and Barb.', 'Afghanistan', 'Siachen Glacier',\n",
       "       'Antarctica', 'Sint Maarten'], dtype=object)"
      ]
     },
     "execution_count": 7,
     "metadata": {},
     "output_type": "execute_result"
    }
   ],
   "source": [
    "countries"
   ]
  },
  {
   "cell_type": "code",
   "execution_count": 8,
   "metadata": {},
   "outputs": [],
   "source": [
    "df1 = pd.read_csv('country_data/press_freedom_clean.csv')"
   ]
  },
  {
   "cell_type": "code",
   "execution_count": 9,
   "metadata": {},
   "outputs": [
    {
     "data": {
      "text/html": [
       "<div>\n",
       "<style scoped>\n",
       "    .dataframe tbody tr th:only-of-type {\n",
       "        vertical-align: middle;\n",
       "    }\n",
       "\n",
       "    .dataframe tbody tr th {\n",
       "        vertical-align: top;\n",
       "    }\n",
       "\n",
       "    .dataframe thead th {\n",
       "        text-align: right;\n",
       "    }\n",
       "</style>\n",
       "<table border=\"1\" class=\"dataframe\">\n",
       "  <thead>\n",
       "    <tr style=\"text-align: right;\">\n",
       "      <th></th>\n",
       "      <th>Country</th>\n",
       "      <th>Year</th>\n",
       "      <th>Press Freedom Index</th>\n",
       "    </tr>\n",
       "  </thead>\n",
       "  <tbody>\n",
       "    <tr>\n",
       "      <th>0</th>\n",
       "      <td>Afghanistan</td>\n",
       "      <td>1995</td>\n",
       "      <td>90</td>\n",
       "    </tr>\n",
       "    <tr>\n",
       "      <th>1</th>\n",
       "      <td>Afghanistan</td>\n",
       "      <td>1996</td>\n",
       "      <td>100</td>\n",
       "    </tr>\n",
       "    <tr>\n",
       "      <th>2</th>\n",
       "      <td>Afghanistan</td>\n",
       "      <td>1997</td>\n",
       "      <td>100</td>\n",
       "    </tr>\n",
       "    <tr>\n",
       "      <th>3</th>\n",
       "      <td>Afghanistan</td>\n",
       "      <td>1998</td>\n",
       "      <td>100</td>\n",
       "    </tr>\n",
       "    <tr>\n",
       "      <th>4</th>\n",
       "      <td>Afghanistan</td>\n",
       "      <td>1999</td>\n",
       "      <td>90</td>\n",
       "    </tr>\n",
       "  </tbody>\n",
       "</table>\n",
       "</div>"
      ],
      "text/plain": [
       "       Country  Year  Press Freedom Index\n",
       "0  Afghanistan  1995                   90\n",
       "1  Afghanistan  1996                  100\n",
       "2  Afghanistan  1997                  100\n",
       "3  Afghanistan  1998                  100\n",
       "4  Afghanistan  1999                   90"
      ]
     },
     "execution_count": 9,
     "metadata": {},
     "output_type": "execute_result"
    }
   ],
   "source": [
    "df1.head()"
   ]
  },
  {
   "cell_type": "code",
   "execution_count": 11,
   "metadata": {},
   "outputs": [],
   "source": [
    "countries1 = df1['Country'].unique()"
   ]
  },
  {
   "cell_type": "code",
   "execution_count": 12,
   "metadata": {},
   "outputs": [
    {
     "data": {
      "text/plain": [
       "(199,)"
      ]
     },
     "execution_count": 12,
     "metadata": {},
     "output_type": "execute_result"
    }
   ],
   "source": [
    "countries1.shape"
   ]
  },
  {
   "cell_type": "code",
   "execution_count": 14,
   "metadata": {},
   "outputs": [
    {
     "data": {
      "text/plain": [
       "(241,)"
      ]
     },
     "execution_count": 14,
     "metadata": {},
     "output_type": "execute_result"
    }
   ],
   "source": [
    "countries.shape"
   ]
  },
  {
   "cell_type": "code",
   "execution_count": 15,
   "metadata": {},
   "outputs": [],
   "source": [
    "mask = np.isin(countries1, countries)"
   ]
  },
  {
   "cell_type": "code",
   "execution_count": 17,
   "metadata": {},
   "outputs": [
    {
     "data": {
      "text/plain": [
       "(174,)"
      ]
     },
     "execution_count": 17,
     "metadata": {},
     "output_type": "execute_result"
    }
   ],
   "source": [
    "countries1[mask].shape"
   ]
  },
  {
   "cell_type": "code",
   "execution_count": 19,
   "metadata": {},
   "outputs": [
    {
     "data": {
      "text/plain": [
       "array(['Antigua and Barbuda', 'Bosnia and Herzegovina', 'Burma (Myanmar)',\n",
       "       'Cape Verde', 'Central African Republic', 'Congo (Brazzaville)',\n",
       "       'Congo (Kinshasa)', 'Czech Republic', 'Dominican Republic',\n",
       "       'Equatorial Guinea', 'Guinea Bissau', 'Ivory Coast',\n",
       "       'Macedonia (F.Y.R.O.M.)', 'Marshall Islands',\n",
       "       'Saint Kitts and Nevis', 'Saint Thomas and Principe',\n",
       "       'Saint Vincent and Grenadines', 'Serbia and Montenegro',\n",
       "       'Solomon Islands', 'South Sudan', 'Swaziland', 'Timor Leste',\n",
       "       'Tuvalu', 'United States', 'West Bank and Gaza'], dtype=object)"
      ]
     },
     "execution_count": 19,
     "metadata": {},
     "output_type": "execute_result"
    }
   ],
   "source": [
    "countries1[~mask]"
   ]
  },
  {
   "cell_type": "code",
   "execution_count": 20,
   "metadata": {},
   "outputs": [
    {
     "data": {
      "text/plain": [
       "array(['Zimbabwe', 'Zambia', 'Yemen', 'Venezuela', 'Vanuatu', 'Uruguay',\n",
       "       'United States of America', 'United Kingdom',\n",
       "       'United Arab Emirates', 'Uganda', 'Tunisia', 'Trinidad and Tobago',\n",
       "       'Tonga', 'Togo', 'Thailand', 'Syria', 'Switzerland', 'Sweden',\n",
       "       'eSwatini', 'Suriname', 'Sudan', 'South Africa', 'Somalia',\n",
       "       'Slovakia', 'Singapore', 'Sierra Leone', 'Seychelles', 'Senegal',\n",
       "       'Saudi Arabia', 'SÃ£o TomÃ© and Principe', 'Samoa', 'Saint Lucia',\n",
       "       'Rwanda', 'Russia', 'Qatar', 'Portugal', 'Poland', 'Philippines',\n",
       "       'Peru', 'Paraguay', 'Panama', 'Oman', 'Norway', 'Nigeria', 'Niger',\n",
       "       'Nicaragua', 'New Zealand', 'Netherlands', 'Nauru', 'Namibia',\n",
       "       'Mozambique', 'Morocco', 'Monaco', 'Mexico', 'Mauritania', 'Mali',\n",
       "       'Malaysia', 'Malawi', 'Madagascar', 'Luxembourg', 'Libya',\n",
       "       'Liberia', 'Lesotho', 'Lebanon', 'Laos', 'Kuwait', 'Kosovo',\n",
       "       'Kiribati', 'Kenya', 'Jordan', 'Japan', 'Jamaica', 'Italy',\n",
       "       'Ireland', 'Iraq', 'Iran', 'Indonesia', 'Honduras', 'Haiti',\n",
       "       'Guyana', 'Guinea-Bissau', 'Guinea', 'Guatemala', 'Grenada',\n",
       "       'Ghana', 'Georgia', 'Gambia', 'Gabon', 'France', 'Finland', 'Fiji',\n",
       "       'Ethiopia', 'Eritrea', 'El Salvador', 'Egypt', 'Ecuador',\n",
       "       'Dominica', 'Djibouti', 'Denmark', 'Czechia', 'Costa Rica',\n",
       "       'Comoros', 'Colombia', 'Chile', 'Chad', 'Cameroon', 'Cambodia',\n",
       "       'Burundi', 'Burkina Faso', 'Brunei', 'Brazil', 'Botswana',\n",
       "       'Bolivia', 'Benin', 'Belize', 'Belgium', 'Barbados', 'Bahrain',\n",
       "       'Australia', 'Argentina', 'Angola', 'Andorra', 'Algeria',\n",
       "       'Albania', 'Vietnam', 'Vatican', 'Uzbekistan', 'Micronesia',\n",
       "       'Marshall Is.', 'N. Mariana Is.', 'U.S. Virgin Is.', 'Guam',\n",
       "       'American Samoa', 'Puerto Rico', 'S. Geo. and the Is.',\n",
       "       'Br. Indian Ocean Ter.', 'Saint Helena', 'Pitcairn Is.',\n",
       "       'Anguilla', 'Falkland Is.', 'Cayman Is.', 'Bermuda',\n",
       "       'British Virgin Is.', 'Turks and Caicos Is.', 'Montserrat',\n",
       "       'Jersey', 'Guernsey', 'Isle of Man', 'Ukraine', 'Turkmenistan',\n",
       "       'Turkey', 'Timor-Leste', 'Tanzania', 'Tajikistan', 'Taiwan',\n",
       "       'S. Sudan', 'Sri Lanka', 'Spain', 'South Korea', 'Somaliland',\n",
       "       'Solomon Is.', 'Slovenia', 'Serbia', 'San Marino',\n",
       "       'St. Vin. and Gren.', 'St. Kitts and Nevis', 'Romania',\n",
       "       'Papua New Guinea', 'Palau', 'Pakistan', 'North Korea', 'Niue',\n",
       "       'Cook Is.', 'Aruba', 'CuraÃ§ao', 'Nepal', 'W. Sahara',\n",
       "       'Montenegro', 'Mongolia', 'Moldova', 'Mauritius', 'Malta',\n",
       "       'Maldives', 'Macedonia', 'Lithuania', 'Liechtenstein', 'Latvia',\n",
       "       'Kyrgyzstan', 'Kazakhstan', 'Israel', 'Palestine', 'India',\n",
       "       'Iceland', 'Hungary', 'Greece', 'Germany',\n",
       "       'St. Pierre and Miquelon', 'Wallis and Futuna Is.', 'St-Martin',\n",
       "       'St-BarthÃ©lemy', 'Fr. Polynesia', 'New Caledonia',\n",
       "       'Fr. S. Antarctic Lands', 'Ã\\x85land', 'Estonia', 'Eq. Guinea',\n",
       "       'Dominican Rep.', 'Greenland', 'Faeroe Is.', 'N. Cyprus', 'Cyprus',\n",
       "       'Cuba', 'Croatia', \"CÃ´te d'Ivoire\", 'Dem. Rep. Congo', 'Congo',\n",
       "       'China', 'Macao', 'Hong Kong', 'Central African Rep.',\n",
       "       'Cabo Verde', 'Canada', 'Myanmar', 'Bulgaria', 'Bosnia and Herz.',\n",
       "       'Bhutan', 'Belarus', 'Bangladesh', 'Bahamas', 'Azerbaijan',\n",
       "       'Austria', 'Indian Ocean Ter.', 'Heard I. and McDonald Is.',\n",
       "       'Norfolk Island', 'Ashmore and Cartier Is.', 'Armenia',\n",
       "       'Antigua and Barb.', 'Afghanistan', 'Siachen Glacier',\n",
       "       'Antarctica', 'Sint Maarten'], dtype=object)"
      ]
     },
     "execution_count": 20,
     "metadata": {},
     "output_type": "execute_result"
    }
   ],
   "source": [
    "countries"
   ]
  },
  {
   "cell_type": "code",
   "execution_count": 36,
   "metadata": {},
   "outputs": [],
   "source": [
    "country_map = {'Antigua and Barbuda':'Antigua and Barb.', 'Bosnia and Herzegovina':'Bosnia and Herz.', \n",
    " 'Burma (Myanmar)': 'Myanmar', 'Cape Verde':'Cabo Verde', 'Central African Republic': 'Central African Rep.', \n",
    " 'Congo (Brazzaville)':'Congo',\n",
    " 'Congo (Kinshasa)': 'Dem. Rep. Congo', 'Czech Republic': 'Czechia', 'Dominican Republic': 'Dominican Rep.',\n",
    " 'Equatorial Guinea':'Eq. Guinea', 'Guinea Bissau':'Guinea-Bissau', 'Ivory Coast': \"CÃ´te d'Ivoire\",\n",
    " 'Macedonia (F.Y.R.O.M.)':'Macedonia', 'Marshall Islands': 'Marshall Is.',\n",
    " 'Saint Kitts and Nevis': 'St. Kitts and Nevis', 'Saint Thomas and Principe': 'SÃ£o TomÃ© and Principe',\n",
    " 'Saint Vincent and Grenadines':'St. Vin. and Gren.', 'Serbia and Montenegro': 'Serbia',\n",
    " 'Solomon Islands':'Solomon Is.', 'South Sudan': 'S. Sudan', 'Swaziland': 'eSwatini', 'Timor Leste': 'Timor-Leste',\n",
    " 'Tuvalu':'', 'United States': 'United States of America', 'West Bank and Gaza': 'Palestine'}\n",
    "\n",
    "country_map = dict([(value, key) for key, value in country_map.items()])"
   ]
  },
  {
   "cell_type": "code",
   "execution_count": 37,
   "metadata": {},
   "outputs": [
    {
     "data": {
      "text/plain": [
       "{'Antigua and Barb.': 'Antigua and Barbuda',\n",
       " 'Bosnia and Herz.': 'Bosnia and Herzegovina',\n",
       " 'Myanmar': 'Burma (Myanmar)',\n",
       " 'Cabo Verde': 'Cape Verde',\n",
       " 'Central African Rep.': 'Central African Republic',\n",
       " 'Congo': 'Congo (Brazzaville)',\n",
       " 'Dem. Rep. Congo': 'Congo (Kinshasa)',\n",
       " 'Czechia': 'Czech Republic',\n",
       " 'Dominican Rep.': 'Dominican Republic',\n",
       " 'Eq. Guinea': 'Equatorial Guinea',\n",
       " 'Guinea-Bissau': 'Guinea Bissau',\n",
       " \"CÃ´te d'Ivoire\": 'Ivory Coast',\n",
       " 'Macedonia': 'Macedonia (F.Y.R.O.M.)',\n",
       " 'Marshall Is.': 'Marshall Islands',\n",
       " 'St. Kitts and Nevis': 'Saint Kitts and Nevis',\n",
       " 'SÃ£o TomÃ© and Principe': 'Saint Thomas and Principe',\n",
       " 'St. Vin. and Gren.': 'Saint Vincent and Grenadines',\n",
       " 'Serbia': 'Serbia and Montenegro',\n",
       " 'Solomon Is.': 'Solomon Islands',\n",
       " 'S. Sudan': 'South Sudan',\n",
       " 'eSwatini': 'Swaziland',\n",
       " 'Timor-Leste': 'Timor Leste',\n",
       " '': 'Tuvalu',\n",
       " 'United States of America': 'United States',\n",
       " 'Palestine': 'West Bank and Gaza'}"
      ]
     },
     "execution_count": 37,
     "metadata": {},
     "output_type": "execute_result"
    }
   ],
   "source": [
    "country_map"
   ]
  },
  {
   "cell_type": "code",
   "execution_count": null,
   "metadata": {},
   "outputs": [],
   "source": [
    "country_map = {'Antigua and Barb.': 'Antigua and Barbuda','Bosnia and Herz.': 'Bosnia and Herzegovina',\n",
    " 'Myanmar': 'Burma (Myanmar)','Cabo Verde': 'Cape Verde','Central African Rep.': 'Central African Republic',\n",
    " 'Congo': 'Congo (Brazzaville)','Dem. Rep. Congo': 'Congo (Kinshasa)','Czechia': 'Czech Republic','Dominican Rep.': 'Dominican Republic',\n",
    " 'Eq. Guinea': 'Equatorial Guinea','Guinea-Bissau': 'Guinea Bissau',\"CÃ´te d'Ivoire\": 'Ivory Coast',\n",
    " 'Macedonia': 'Macedonia (F.Y.R.O.M.)','Marshall Is.': 'Marshall Islands','St. Kitts and Nevis': 'Saint Kitts and Nevis',\n",
    " 'SÃ£o TomÃ© and Principe': 'Saint Thomas and Principe','St. Vin. and Gren.': 'Saint Vincent and Grenadines',\n",
    " 'Serbia': 'Serbia and Montenegro','Solomon Is.': 'Solomon Islands','S. Sudan': 'South Sudan','eSwatini': 'Swaziland',\n",
    " 'Timor-Leste': 'Timor Leste','United States of America': 'United States','Palestine': 'West Bank and Gaza'}"
   ]
  },
  {
   "cell_type": "code",
   "execution_count": 24,
   "metadata": {},
   "outputs": [
    {
     "data": {
      "text/html": [
       "<div>\n",
       "<style scoped>\n",
       "    .dataframe tbody tr th:only-of-type {\n",
       "        vertical-align: middle;\n",
       "    }\n",
       "\n",
       "    .dataframe tbody tr th {\n",
       "        vertical-align: top;\n",
       "    }\n",
       "\n",
       "    .dataframe thead th {\n",
       "        text-align: right;\n",
       "    }\n",
       "</style>\n",
       "<table border=\"1\" class=\"dataframe\">\n",
       "  <thead>\n",
       "    <tr style=\"text-align: right;\">\n",
       "      <th></th>\n",
       "      <th>NAME</th>\n",
       "      <th>TYPE</th>\n",
       "      <th>Company</th>\n",
       "      <th>Continent</th>\n",
       "      <th>Model (0=t</th>\n",
       "      <th>Privately</th>\n",
       "      <th>geometry</th>\n",
       "    </tr>\n",
       "  </thead>\n",
       "  <tbody>\n",
       "    <tr>\n",
       "      <th>0</th>\n",
       "      <td>Zimbabwe</td>\n",
       "      <td>Sovereign country</td>\n",
       "      <td>SUPERSPORT (SOUTH AFRICA)</td>\n",
       "      <td>Africa</td>\n",
       "      <td>3.0</td>\n",
       "      <td>1.0</td>\n",
       "      <td>POLYGON ((31.28789062500002 -22.40205078125001...</td>\n",
       "    </tr>\n",
       "    <tr>\n",
       "      <th>1</th>\n",
       "      <td>Zambia</td>\n",
       "      <td>Sovereign country</td>\n",
       "      <td>SUPERSPORT (SOUTH AFRICA)</td>\n",
       "      <td>Africa</td>\n",
       "      <td>3.0</td>\n",
       "      <td>1.0</td>\n",
       "      <td>POLYGON ((30.39609375000001 -15.64306640625, 3...</td>\n",
       "    </tr>\n",
       "    <tr>\n",
       "      <th>2</th>\n",
       "      <td>Yemen</td>\n",
       "      <td>Sovereign country</td>\n",
       "      <td>beIN SPORT</td>\n",
       "      <td>Asia</td>\n",
       "      <td>3.0</td>\n",
       "      <td>1.0</td>\n",
       "      <td>(POLYGON ((53.08564453125001 16.648388671875, ...</td>\n",
       "    </tr>\n",
       "    <tr>\n",
       "      <th>3</th>\n",
       "      <td>Venezuela</td>\n",
       "      <td>Sovereign country</td>\n",
       "      <td>ESPN LATIN AMERICA</td>\n",
       "      <td>Americas</td>\n",
       "      <td>3.0</td>\n",
       "      <td>1.0</td>\n",
       "      <td>(POLYGON ((-60.82119140624999 9.13837890624999...</td>\n",
       "    </tr>\n",
       "    <tr>\n",
       "      <th>4</th>\n",
       "      <td>Vanuatu</td>\n",
       "      <td>Sovereign country</td>\n",
       "      <td>FIJI TV</td>\n",
       "      <td>Asia</td>\n",
       "      <td>4.0</td>\n",
       "      <td>1.0</td>\n",
       "      <td>(POLYGON ((166.74580078125 -14.82685546875001,...</td>\n",
       "    </tr>\n",
       "  </tbody>\n",
       "</table>\n",
       "</div>"
      ],
      "text/plain": [
       "        NAME               TYPE                    Company Continent  \\\n",
       "0   Zimbabwe  Sovereign country  SUPERSPORT (SOUTH AFRICA)    Africa   \n",
       "1     Zambia  Sovereign country  SUPERSPORT (SOUTH AFRICA)    Africa   \n",
       "2      Yemen  Sovereign country                 beIN SPORT      Asia   \n",
       "3  Venezuela  Sovereign country         ESPN LATIN AMERICA  Americas   \n",
       "4    Vanuatu  Sovereign country                    FIJI TV      Asia   \n",
       "\n",
       "   Model (0=t  Privately                                           geometry  \n",
       "0         3.0        1.0  POLYGON ((31.28789062500002 -22.40205078125001...  \n",
       "1         3.0        1.0  POLYGON ((30.39609375000001 -15.64306640625, 3...  \n",
       "2         3.0        1.0  (POLYGON ((53.08564453125001 16.648388671875, ...  \n",
       "3         3.0        1.0  (POLYGON ((-60.82119140624999 9.13837890624999...  \n",
       "4         4.0        1.0  (POLYGON ((166.74580078125 -14.82685546875001,...  "
      ]
     },
     "execution_count": 24,
     "metadata": {},
     "output_type": "execute_result"
    }
   ],
   "source": [
    "df.head()"
   ]
  },
  {
   "cell_type": "code",
   "execution_count": 25,
   "metadata": {},
   "outputs": [],
   "source": [
    "def get_model(val):\n",
    "    \n",
    "    if val == -1:\n",
    "        return 'Rights are held by middle-man.'\n",
    "    elif val == 1:\n",
    "        return 'Free-to-air.'\n",
    "    elif val == 2:\n",
    "        return 'Pay-per-view.'\n",
    "    elif val == 3:\n",
    "        return 'Subscription.'\n",
    "    else:\n",
    "        return 'Free-to-view.'\n",
    "    \n",
    "# function to extract numbers from 'Privately Owned' column and convert to string\n",
    "\n",
    "def get_ownership(val):\n",
    "    \n",
    "    if val == 1:\n",
    "        return 'Privately owned.'\n",
    "    else:\n",
    "        return 'Government ownership.'"
   ]
  },
  {
   "cell_type": "code",
   "execution_count": 26,
   "metadata": {},
   "outputs": [
    {
     "name": "stdout",
     "output_type": "stream",
     "text": [
      "<class 'geopandas.geodataframe.GeoDataFrame'>\n",
      "RangeIndex: 248 entries, 0 to 247\n",
      "Data columns (total 7 columns):\n",
      "NAME          248 non-null object\n",
      "TYPE          248 non-null object\n",
      "Company       131 non-null object\n",
      "Continent     131 non-null object\n",
      "Model (0=t    131 non-null float64\n",
      "Privately     131 non-null float64\n",
      "geometry      248 non-null object\n",
      "dtypes: float64(2), object(5)\n",
      "memory usage: 13.6+ KB\n"
     ]
    }
   ],
   "source": [
    "df.info()"
   ]
  },
  {
   "cell_type": "code",
   "execution_count": 27,
   "metadata": {},
   "outputs": [],
   "source": [
    "df.dropna(inplace = True)"
   ]
  },
  {
   "cell_type": "code",
   "execution_count": 28,
   "metadata": {},
   "outputs": [],
   "source": [
    "df['business_model'] = df['Model (0=t'].apply(lambda x: get_model(x))\n",
    "\n",
    "df['ownership'] = df['Privately'].apply(lambda x: get_ownership(x))"
   ]
  },
  {
   "cell_type": "code",
   "execution_count": 29,
   "metadata": {},
   "outputs": [
    {
     "data": {
      "text/html": [
       "<div>\n",
       "<style scoped>\n",
       "    .dataframe tbody tr th:only-of-type {\n",
       "        vertical-align: middle;\n",
       "    }\n",
       "\n",
       "    .dataframe tbody tr th {\n",
       "        vertical-align: top;\n",
       "    }\n",
       "\n",
       "    .dataframe thead th {\n",
       "        text-align: right;\n",
       "    }\n",
       "</style>\n",
       "<table border=\"1\" class=\"dataframe\">\n",
       "  <thead>\n",
       "    <tr style=\"text-align: right;\">\n",
       "      <th></th>\n",
       "      <th>NAME</th>\n",
       "      <th>TYPE</th>\n",
       "      <th>Company</th>\n",
       "      <th>Continent</th>\n",
       "      <th>Model (0=t</th>\n",
       "      <th>Privately</th>\n",
       "      <th>geometry</th>\n",
       "      <th>business_model</th>\n",
       "      <th>ownership</th>\n",
       "    </tr>\n",
       "  </thead>\n",
       "  <tbody>\n",
       "    <tr>\n",
       "      <th>0</th>\n",
       "      <td>Zimbabwe</td>\n",
       "      <td>Sovereign country</td>\n",
       "      <td>SUPERSPORT (SOUTH AFRICA)</td>\n",
       "      <td>Africa</td>\n",
       "      <td>3.0</td>\n",
       "      <td>1.0</td>\n",
       "      <td>POLYGON ((31.28789062500002 -22.40205078125001...</td>\n",
       "      <td>Subscription.</td>\n",
       "      <td>Privately owned.</td>\n",
       "    </tr>\n",
       "    <tr>\n",
       "      <th>1</th>\n",
       "      <td>Zambia</td>\n",
       "      <td>Sovereign country</td>\n",
       "      <td>SUPERSPORT (SOUTH AFRICA)</td>\n",
       "      <td>Africa</td>\n",
       "      <td>3.0</td>\n",
       "      <td>1.0</td>\n",
       "      <td>POLYGON ((30.39609375000001 -15.64306640625, 3...</td>\n",
       "      <td>Subscription.</td>\n",
       "      <td>Privately owned.</td>\n",
       "    </tr>\n",
       "    <tr>\n",
       "      <th>2</th>\n",
       "      <td>Yemen</td>\n",
       "      <td>Sovereign country</td>\n",
       "      <td>beIN SPORT</td>\n",
       "      <td>Asia</td>\n",
       "      <td>3.0</td>\n",
       "      <td>1.0</td>\n",
       "      <td>(POLYGON ((53.08564453125001 16.648388671875, ...</td>\n",
       "      <td>Subscription.</td>\n",
       "      <td>Privately owned.</td>\n",
       "    </tr>\n",
       "    <tr>\n",
       "      <th>3</th>\n",
       "      <td>Venezuela</td>\n",
       "      <td>Sovereign country</td>\n",
       "      <td>ESPN LATIN AMERICA</td>\n",
       "      <td>Americas</td>\n",
       "      <td>3.0</td>\n",
       "      <td>1.0</td>\n",
       "      <td>(POLYGON ((-60.82119140624999 9.13837890624999...</td>\n",
       "      <td>Subscription.</td>\n",
       "      <td>Privately owned.</td>\n",
       "    </tr>\n",
       "    <tr>\n",
       "      <th>4</th>\n",
       "      <td>Vanuatu</td>\n",
       "      <td>Sovereign country</td>\n",
       "      <td>FIJI TV</td>\n",
       "      <td>Asia</td>\n",
       "      <td>4.0</td>\n",
       "      <td>1.0</td>\n",
       "      <td>(POLYGON ((166.74580078125 -14.82685546875001,...</td>\n",
       "      <td>Free-to-view.</td>\n",
       "      <td>Privately owned.</td>\n",
       "    </tr>\n",
       "  </tbody>\n",
       "</table>\n",
       "</div>"
      ],
      "text/plain": [
       "        NAME               TYPE                    Company Continent  \\\n",
       "0   Zimbabwe  Sovereign country  SUPERSPORT (SOUTH AFRICA)    Africa   \n",
       "1     Zambia  Sovereign country  SUPERSPORT (SOUTH AFRICA)    Africa   \n",
       "2      Yemen  Sovereign country                 beIN SPORT      Asia   \n",
       "3  Venezuela  Sovereign country         ESPN LATIN AMERICA  Americas   \n",
       "4    Vanuatu  Sovereign country                    FIJI TV      Asia   \n",
       "\n",
       "   Model (0=t  Privately                                           geometry  \\\n",
       "0         3.0        1.0  POLYGON ((31.28789062500002 -22.40205078125001...   \n",
       "1         3.0        1.0  POLYGON ((30.39609375000001 -15.64306640625, 3...   \n",
       "2         3.0        1.0  (POLYGON ((53.08564453125001 16.648388671875, ...   \n",
       "3         3.0        1.0  (POLYGON ((-60.82119140624999 9.13837890624999...   \n",
       "4         4.0        1.0  (POLYGON ((166.74580078125 -14.82685546875001,...   \n",
       "\n",
       "  business_model         ownership  \n",
       "0  Subscription.  Privately owned.  \n",
       "1  Subscription.  Privately owned.  \n",
       "2  Subscription.  Privately owned.  \n",
       "3  Subscription.  Privately owned.  \n",
       "4  Free-to-view.  Privately owned.  "
      ]
     },
     "execution_count": 29,
     "metadata": {},
     "output_type": "execute_result"
    }
   ],
   "source": [
    "df.head()"
   ]
  },
  {
   "cell_type": "code",
   "execution_count": 31,
   "metadata": {},
   "outputs": [
    {
     "ename": "KeyError",
     "evalue": "\"['geometry'] not found in axis\"",
     "output_type": "error",
     "traceback": [
      "\u001b[1;31m---------------------------------------------------------------------------\u001b[0m",
      "\u001b[1;31mKeyError\u001b[0m                                  Traceback (most recent call last)",
      "\u001b[1;32m<ipython-input-31-d6ff7cd98356>\u001b[0m in \u001b[0;36m<module>\u001b[1;34m\u001b[0m\n\u001b[1;32m----> 1\u001b[1;33m \u001b[0mdf\u001b[0m\u001b[1;33m.\u001b[0m\u001b[0mdrop\u001b[0m\u001b[1;33m(\u001b[0m\u001b[1;34m'geometry'\u001b[0m\u001b[1;33m)\u001b[0m\u001b[1;33m\u001b[0m\u001b[1;33m\u001b[0m\u001b[0m\n\u001b[0m",
      "\u001b[1;32mC:\\ProgramData\\Anaconda3\\lib\\site-packages\\pandas\\core\\frame.py\u001b[0m in \u001b[0;36mdrop\u001b[1;34m(self, labels, axis, index, columns, level, inplace, errors)\u001b[0m\n\u001b[0;32m   3938\u001b[0m                                            \u001b[0mindex\u001b[0m\u001b[1;33m=\u001b[0m\u001b[0mindex\u001b[0m\u001b[1;33m,\u001b[0m \u001b[0mcolumns\u001b[0m\u001b[1;33m=\u001b[0m\u001b[0mcolumns\u001b[0m\u001b[1;33m,\u001b[0m\u001b[1;33m\u001b[0m\u001b[1;33m\u001b[0m\u001b[0m\n\u001b[0;32m   3939\u001b[0m                                            \u001b[0mlevel\u001b[0m\u001b[1;33m=\u001b[0m\u001b[0mlevel\u001b[0m\u001b[1;33m,\u001b[0m \u001b[0minplace\u001b[0m\u001b[1;33m=\u001b[0m\u001b[0minplace\u001b[0m\u001b[1;33m,\u001b[0m\u001b[1;33m\u001b[0m\u001b[1;33m\u001b[0m\u001b[0m\n\u001b[1;32m-> 3940\u001b[1;33m                                            errors=errors)\n\u001b[0m\u001b[0;32m   3941\u001b[0m \u001b[1;33m\u001b[0m\u001b[0m\n\u001b[0;32m   3942\u001b[0m     @rewrite_axis_style_signature('mapper', [('copy', True),\n",
      "\u001b[1;32mC:\\ProgramData\\Anaconda3\\lib\\site-packages\\pandas\\core\\generic.py\u001b[0m in \u001b[0;36mdrop\u001b[1;34m(self, labels, axis, index, columns, level, inplace, errors)\u001b[0m\n\u001b[0;32m   3778\u001b[0m         \u001b[1;32mfor\u001b[0m \u001b[0maxis\u001b[0m\u001b[1;33m,\u001b[0m \u001b[0mlabels\u001b[0m \u001b[1;32min\u001b[0m \u001b[0maxes\u001b[0m\u001b[1;33m.\u001b[0m\u001b[0mitems\u001b[0m\u001b[1;33m(\u001b[0m\u001b[1;33m)\u001b[0m\u001b[1;33m:\u001b[0m\u001b[1;33m\u001b[0m\u001b[1;33m\u001b[0m\u001b[0m\n\u001b[0;32m   3779\u001b[0m             \u001b[1;32mif\u001b[0m \u001b[0mlabels\u001b[0m \u001b[1;32mis\u001b[0m \u001b[1;32mnot\u001b[0m \u001b[1;32mNone\u001b[0m\u001b[1;33m:\u001b[0m\u001b[1;33m\u001b[0m\u001b[1;33m\u001b[0m\u001b[0m\n\u001b[1;32m-> 3780\u001b[1;33m                 \u001b[0mobj\u001b[0m \u001b[1;33m=\u001b[0m \u001b[0mobj\u001b[0m\u001b[1;33m.\u001b[0m\u001b[0m_drop_axis\u001b[0m\u001b[1;33m(\u001b[0m\u001b[0mlabels\u001b[0m\u001b[1;33m,\u001b[0m \u001b[0maxis\u001b[0m\u001b[1;33m,\u001b[0m \u001b[0mlevel\u001b[0m\u001b[1;33m=\u001b[0m\u001b[0mlevel\u001b[0m\u001b[1;33m,\u001b[0m \u001b[0merrors\u001b[0m\u001b[1;33m=\u001b[0m\u001b[0merrors\u001b[0m\u001b[1;33m)\u001b[0m\u001b[1;33m\u001b[0m\u001b[1;33m\u001b[0m\u001b[0m\n\u001b[0m\u001b[0;32m   3781\u001b[0m \u001b[1;33m\u001b[0m\u001b[0m\n\u001b[0;32m   3782\u001b[0m         \u001b[1;32mif\u001b[0m \u001b[0minplace\u001b[0m\u001b[1;33m:\u001b[0m\u001b[1;33m\u001b[0m\u001b[1;33m\u001b[0m\u001b[0m\n",
      "\u001b[1;32mC:\\ProgramData\\Anaconda3\\lib\\site-packages\\pandas\\core\\generic.py\u001b[0m in \u001b[0;36m_drop_axis\u001b[1;34m(self, labels, axis, level, errors)\u001b[0m\n\u001b[0;32m   3810\u001b[0m                 \u001b[0mnew_axis\u001b[0m \u001b[1;33m=\u001b[0m \u001b[0maxis\u001b[0m\u001b[1;33m.\u001b[0m\u001b[0mdrop\u001b[0m\u001b[1;33m(\u001b[0m\u001b[0mlabels\u001b[0m\u001b[1;33m,\u001b[0m \u001b[0mlevel\u001b[0m\u001b[1;33m=\u001b[0m\u001b[0mlevel\u001b[0m\u001b[1;33m,\u001b[0m \u001b[0merrors\u001b[0m\u001b[1;33m=\u001b[0m\u001b[0merrors\u001b[0m\u001b[1;33m)\u001b[0m\u001b[1;33m\u001b[0m\u001b[1;33m\u001b[0m\u001b[0m\n\u001b[0;32m   3811\u001b[0m             \u001b[1;32melse\u001b[0m\u001b[1;33m:\u001b[0m\u001b[1;33m\u001b[0m\u001b[1;33m\u001b[0m\u001b[0m\n\u001b[1;32m-> 3812\u001b[1;33m                 \u001b[0mnew_axis\u001b[0m \u001b[1;33m=\u001b[0m \u001b[0maxis\u001b[0m\u001b[1;33m.\u001b[0m\u001b[0mdrop\u001b[0m\u001b[1;33m(\u001b[0m\u001b[0mlabels\u001b[0m\u001b[1;33m,\u001b[0m \u001b[0merrors\u001b[0m\u001b[1;33m=\u001b[0m\u001b[0merrors\u001b[0m\u001b[1;33m)\u001b[0m\u001b[1;33m\u001b[0m\u001b[1;33m\u001b[0m\u001b[0m\n\u001b[0m\u001b[0;32m   3813\u001b[0m             \u001b[0mresult\u001b[0m \u001b[1;33m=\u001b[0m \u001b[0mself\u001b[0m\u001b[1;33m.\u001b[0m\u001b[0mreindex\u001b[0m\u001b[1;33m(\u001b[0m\u001b[1;33m**\u001b[0m\u001b[1;33m{\u001b[0m\u001b[0maxis_name\u001b[0m\u001b[1;33m:\u001b[0m \u001b[0mnew_axis\u001b[0m\u001b[1;33m}\u001b[0m\u001b[1;33m)\u001b[0m\u001b[1;33m\u001b[0m\u001b[1;33m\u001b[0m\u001b[0m\n\u001b[0;32m   3814\u001b[0m \u001b[1;33m\u001b[0m\u001b[0m\n",
      "\u001b[1;32mC:\\ProgramData\\Anaconda3\\lib\\site-packages\\pandas\\core\\indexes\\base.py\u001b[0m in \u001b[0;36mdrop\u001b[1;34m(self, labels, errors)\u001b[0m\n\u001b[0;32m   4963\u001b[0m             \u001b[1;32mif\u001b[0m \u001b[0merrors\u001b[0m \u001b[1;33m!=\u001b[0m \u001b[1;34m'ignore'\u001b[0m\u001b[1;33m:\u001b[0m\u001b[1;33m\u001b[0m\u001b[1;33m\u001b[0m\u001b[0m\n\u001b[0;32m   4964\u001b[0m                 raise KeyError(\n\u001b[1;32m-> 4965\u001b[1;33m                     '{} not found in axis'.format(labels[mask]))\n\u001b[0m\u001b[0;32m   4966\u001b[0m             \u001b[0mindexer\u001b[0m \u001b[1;33m=\u001b[0m \u001b[0mindexer\u001b[0m\u001b[1;33m[\u001b[0m\u001b[1;33m~\u001b[0m\u001b[0mmask\u001b[0m\u001b[1;33m]\u001b[0m\u001b[1;33m\u001b[0m\u001b[1;33m\u001b[0m\u001b[0m\n\u001b[0;32m   4967\u001b[0m         \u001b[1;32mreturn\u001b[0m \u001b[0mself\u001b[0m\u001b[1;33m.\u001b[0m\u001b[0mdelete\u001b[0m\u001b[1;33m(\u001b[0m\u001b[0mindexer\u001b[0m\u001b[1;33m)\u001b[0m\u001b[1;33m\u001b[0m\u001b[1;33m\u001b[0m\u001b[0m\n",
      "\u001b[1;31mKeyError\u001b[0m: \"['geometry'] not found in axis\""
     ]
    }
   ],
   "source": [
    "df.drop('geometry')"
   ]
  },
  {
   "cell_type": "code",
   "execution_count": 32,
   "metadata": {},
   "outputs": [
    {
     "data": {
      "text/html": [
       "<div>\n",
       "<style scoped>\n",
       "    .dataframe tbody tr th:only-of-type {\n",
       "        vertical-align: middle;\n",
       "    }\n",
       "\n",
       "    .dataframe tbody tr th {\n",
       "        vertical-align: top;\n",
       "    }\n",
       "\n",
       "    .dataframe thead th {\n",
       "        text-align: right;\n",
       "    }\n",
       "</style>\n",
       "<table border=\"1\" class=\"dataframe\">\n",
       "  <thead>\n",
       "    <tr style=\"text-align: right;\">\n",
       "      <th></th>\n",
       "      <th>business_model</th>\n",
       "      <th>ownership</th>\n",
       "    </tr>\n",
       "  </thead>\n",
       "  <tbody>\n",
       "    <tr>\n",
       "      <th>Free-to-air.</th>\n",
       "      <td>16.0</td>\n",
       "      <td>NaN</td>\n",
       "    </tr>\n",
       "    <tr>\n",
       "      <th>Free-to-view.</th>\n",
       "      <td>10.0</td>\n",
       "      <td>NaN</td>\n",
       "    </tr>\n",
       "    <tr>\n",
       "      <th>Government ownership.</th>\n",
       "      <td>NaN</td>\n",
       "      <td>6.0</td>\n",
       "    </tr>\n",
       "    <tr>\n",
       "      <th>Pay-per-view.</th>\n",
       "      <td>1.0</td>\n",
       "      <td>NaN</td>\n",
       "    </tr>\n",
       "    <tr>\n",
       "      <th>Privately owned.</th>\n",
       "      <td>NaN</td>\n",
       "      <td>125.0</td>\n",
       "    </tr>\n",
       "    <tr>\n",
       "      <th>Rights are held by middle-man.</th>\n",
       "      <td>1.0</td>\n",
       "      <td>NaN</td>\n",
       "    </tr>\n",
       "    <tr>\n",
       "      <th>Subscription.</th>\n",
       "      <td>103.0</td>\n",
       "      <td>NaN</td>\n",
       "    </tr>\n",
       "  </tbody>\n",
       "</table>\n",
       "</div>"
      ],
      "text/plain": [
       "                                business_model  ownership\n",
       "Free-to-air.                              16.0        NaN\n",
       "Free-to-view.                             10.0        NaN\n",
       "Government ownership.                      NaN        6.0\n",
       "Pay-per-view.                              1.0        NaN\n",
       "Privately owned.                           NaN      125.0\n",
       "Rights are held by middle-man.             1.0        NaN\n",
       "Subscription.                            103.0        NaN"
      ]
     },
     "execution_count": 32,
     "metadata": {},
     "output_type": "execute_result"
    }
   ],
   "source": [
    "df[['business_model', 'ownership']].apply(pd.Series.value_counts)"
   ]
  },
  {
   "cell_type": "code",
   "execution_count": 33,
   "metadata": {},
   "outputs": [
    {
     "data": {
      "text/plain": [
       "array(['Subscription.', 'Free-to-view.', 'Free-to-air.', 'Pay-per-view.',\n",
       "       'Rights are held by middle-man.'], dtype=object)"
      ]
     },
     "execution_count": 33,
     "metadata": {},
     "output_type": "execute_result"
    }
   ],
   "source": [
    "df['business_model'].unique()"
   ]
  },
  {
   "cell_type": "code",
   "execution_count": 34,
   "metadata": {},
   "outputs": [
    {
     "data": {
      "text/plain": [
       "array(['Privately owned.', 'Government ownership.'], dtype=object)"
      ]
     },
     "execution_count": 34,
     "metadata": {},
     "output_type": "execute_result"
    }
   ],
   "source": [
    "x1 = {'Subscription.': 103, 'Free-to-view.': 10, 'Free-to-air.':16, 'Pay-per-view.':1,\n",
    "       'Rights are held by middle-man.':1}\n",
    "\n",
    "x2 = {'Privately owned.':125, 'Government ownership.':6}\n",
    "\n",
    "data1 = pd.Series(x1).reset_index(name='value').rename(columns={'index':'business_model'})\n",
    "\n",
    "data2 = pd.Series(x2).reset_index(name='value').rename(columns={'index':'ownership'})\n",
    "\n",
    "data1['angle'] = data1['value']/data1['value'].sum() * 2*pi\n",
    "\n",
    "data2['angle'] = data2['value']/data2['value'].sum() * 2*pi\n",
    "\n",
    "pie_data = {'business_model': data1, 'ownership': data2}"
   ]
  },
  {
   "cell_type": "code",
   "execution_count": 38,
   "metadata": {},
   "outputs": [
    {
     "data": {
      "text/plain": [
       "array(['Afghanistan', 'Albania', 'Algeria', 'Andorra', 'Angola',\n",
       "       'Antigua and Barbuda', 'Argentina', 'Armenia', 'Australia',\n",
       "       'Austria', 'Azerbaijan', 'Bahamas', 'Bahrain', 'Bangladesh',\n",
       "       'Barbados', 'Belarus', 'Belgium', 'Belize', 'Benin', 'Bhutan',\n",
       "       'Bolivia', 'Bosnia and Herzegovina', 'Botswana', 'Brazil',\n",
       "       'Brunei', 'Bulgaria', 'Burkina Faso', 'Burma (Myanmar)', 'Burundi',\n",
       "       'Cambodia', 'Cameroon', 'Canada', 'Cape Verde',\n",
       "       'Central African Republic', 'Chad', 'Chile', 'China', 'Colombia',\n",
       "       'Comoros', 'Congo (Brazzaville)', 'Congo (Kinshasa)', 'Costa Rica',\n",
       "       'Croatia', 'Cuba', 'Cyprus', 'Czech Republic', 'Denmark',\n",
       "       'Djibouti', 'Dominica', 'Dominican Republic', 'Ecuador', 'Egypt',\n",
       "       'El Salvador', 'Equatorial Guinea', 'Eritrea', 'Estonia',\n",
       "       'Ethiopia', 'Fiji', 'Finland', 'France', 'Gabon', 'Gambia',\n",
       "       'Georgia', 'Germany', 'Ghana', 'Greece', 'Grenada', 'Guatemala',\n",
       "       'Guinea', 'Guinea Bissau', 'Guyana', 'Haiti', 'Honduras',\n",
       "       'Hong Kong', 'Hungary', 'Iceland', 'India', 'Indonesia', 'Iran',\n",
       "       'Iraq', 'Ireland', 'Israel', 'Italy', 'Ivory Coast', 'Jamaica',\n",
       "       'Japan', 'Jordan', 'Kazakhstan', 'Kenya', 'Kiribati', 'Kosovo',\n",
       "       'Kuwait', 'Kyrgyzstan', 'Laos', 'Latvia', 'Lebanon', 'Lesotho',\n",
       "       'Liberia', 'Libya', 'Liechtenstein', 'Lithuania', 'Luxembourg',\n",
       "       'Macedonia (F.Y.R.O.M.)', 'Madagascar', 'Malawi', 'Malaysia',\n",
       "       'Maldives', 'Mali', 'Malta', 'Marshall Islands', 'Mauritania',\n",
       "       'Mauritius', 'Mexico', 'Micronesia', 'Moldova', 'Monaco',\n",
       "       'Mongolia', 'Montenegro', 'Morocco', 'Mozambique', 'Namibia',\n",
       "       'Nauru', 'Nepal', 'Netherlands', 'New Zealand', 'Nicaragua',\n",
       "       'Niger', 'Nigeria', 'North Korea', 'Norway', 'Oman', 'Pakistan',\n",
       "       'Palau', 'Panama', 'Papua New Guinea', 'Paraguay', 'Peru',\n",
       "       'Philippines', 'Poland', 'Portugal', 'Qatar', 'Romania', 'Russia',\n",
       "       'Rwanda', 'Saint Kitts and Nevis', 'Saint Lucia',\n",
       "       'Saint Thomas and Principe', 'Saint Vincent and Grenadines',\n",
       "       'Samoa', 'San Marino', 'Saudi Arabia', 'Senegal', 'Serbia',\n",
       "       'Serbia and Montenegro', 'Seychelles', 'Sierra Leone', 'Singapore',\n",
       "       'Slovakia', 'Slovenia', 'Solomon Islands', 'Somalia', 'Somaliland',\n",
       "       'South Africa', 'South Korea', 'South Sudan', 'Spain', 'Sri Lanka',\n",
       "       'Sudan', 'Suriname', 'Swaziland', 'Sweden', 'Switzerland', 'Syria',\n",
       "       'Taiwan', 'Tajikistan', 'Tanzania', 'Thailand', 'Timor Leste',\n",
       "       'Togo', 'Tonga', 'Trinidad and Tobago', 'Tunisia', 'Turkey',\n",
       "       'Turkmenistan', 'Tuvalu', 'Uganda', 'Ukraine',\n",
       "       'United Arab Emirates', 'United Kingdom', 'United States',\n",
       "       'Uruguay', 'Uzbekistan', 'Vanuatu', 'Venezuela', 'Vietnam',\n",
       "       'West Bank and Gaza', 'Yemen', 'Zambia', 'Zimbabwe'], dtype=object)"
      ]
     },
     "execution_count": 38,
     "metadata": {},
     "output_type": "execute_result"
    }
   ],
   "source": [
    "countries1"
   ]
  },
  {
   "cell_type": "code",
   "execution_count": null,
   "metadata": {},
   "outputs": [],
   "source": []
  }
 ],
 "metadata": {
  "kernelspec": {
   "display_name": "Python 3",
   "language": "python",
   "name": "python3"
  },
  "language_info": {
   "codemirror_mode": {
    "name": "ipython",
    "version": 3
   },
   "file_extension": ".py",
   "mimetype": "text/x-python",
   "name": "python",
   "nbconvert_exporter": "python",
   "pygments_lexer": "ipython3",
   "version": "3.7.3"
  }
 },
 "nbformat": 4,
 "nbformat_minor": 2
}
